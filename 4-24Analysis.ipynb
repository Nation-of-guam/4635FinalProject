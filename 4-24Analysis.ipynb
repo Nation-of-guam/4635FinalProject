{
 "cells": [
  {
   "cell_type": "code",
   "execution_count": 1,
   "metadata": {
    "collapsed": true,
    "pycharm": {
     "name": "#%%\n"
    }
   },
   "outputs": [],
   "source": [
    "import numpy as np\n",
    "import pandas as pd\n",
    "from sklearn.metrics import *\n",
    "import matplotlib.pyplot as plt\n",
    "import sklearn.linear_model as linear_model\n",
    "from sklearn.model_selection import *\n",
    "from sklearn.model_selection import LeaveOneOut\n",
    "from sklearn.model_selection import KFold\n",
    "import seaborn as sns\n"
   ]
  },
  {
   "cell_type": "code",
   "execution_count": 2,
   "outputs": [],
   "source": [
    "sns.color_palette(\"hls\", 8)\n",
    "def r2(xr, yr):\n",
    "    loo = LeaveOneOut()\n",
    "    ytests = []\n",
    "    ypreds = []\n",
    "    x_arr = np.array(xr)\n",
    "    y_arr = np.array(yr)\n",
    "    for train_idx, test_idx in loo.split(xr):\n",
    "        X_train, X_test = x_arr[train_idx], x_arr[test_idx] #requires arrays\n",
    "        y_train, y_test = y_arr[train_idx], y_arr[test_idx]\n",
    "\n",
    "        model = linear_model.LinearRegression()\n",
    "        model.fit(X = X_train, y = y_train)\n",
    "        y_pred = model.predict(X_test)\n",
    "\n",
    "        # there is only one y-test and y-pred per iteration over the loo.split,\n",
    "        # so to get a proper graph, we append them to respective lists.\n",
    "\n",
    "        ytests += list(y_test)\n",
    "        ypreds += list(y_pred)\n",
    "    rr = r2_score(y_true=ytests, y_pred=ypreds)\n",
    "\n",
    "    ms_error = mean_squared_error(ytests, ypreds)\n",
    "    print(\"R2\")\n",
    "    print(\"Leave One Out Cross Validation\")\n",
    "    print(\"R^2: {:.5f}, MSE: {:.5f}\".format(rr, ms_error))\n",
    "def allTesting(xCat, yCat, xpred,ypred, all_models, outname, title = \"Confusion Matrix\"):\n",
    "    loo = LeaveOneOut()\n",
    "    print(yCat.value_counts())\n",
    "    logm = linear_model.LogisticRegression()\n",
    "    score = cross_val_score(logm, xCat, yCat, scoring= \"accuracy\", cv = loo, n_jobs=-1)\n",
    "    logm_Predict = cross_val_predict(logm, xCat, yCat, cv = loo)\n",
    "    cm = confusion_matrix(yCat, logm_Predict)\n",
    "    ax= plt.subplot()\n",
    "    #annot=True to annotate cells, ftm='g' to disable scientific notation\n",
    "    sns.heatmap(cm, annot=True, fmt='g', ax=ax).set(title=title)\n",
    "    # labels, title and ticks\n",
    "    ax.set_xlabel('Predicted labels')\n",
    "    ax.set_ylabel('True labels')\n",
    "    ax.set_title(title)\n",
    "    ax.xaxis.set_ticklabels(['False', 'True'])\n",
    "    ax.yaxis.set_ticklabels(['False','True'])\n",
    "\n",
    "    plt.show()\n",
    "    print(\"Accuracy\")\n",
    "    print(np.mean(np.absolute(score)))\n",
    "    if all_models:\n",
    "        loo = LeaveOneOut()\n",
    "        linm = linear_model.LinearRegression()\n",
    "        score = cross_validate(linm, xpred, ypred, scoring=\"neg_mean_absolute_error\", cv = loo, n_jobs=-1, return_estimator = True)\n",
    "        print(\"MAE\")\n",
    "        print(-1*np.mean(score['test_score']))\n",
    "        stuff = np.arange(xCat.shape[1]).reshape((xCat.shape[1],))\n",
    "        i = 0\n",
    "        for model in score['estimator']:\n",
    "            i += 1\n",
    "            stuff = np.add(stuff, np.transpose(model.coef_))\n",
    "        out = pd.concat([pd.DataFrame(xCat.columns), pd.DataFrame(np.transpose(stuff))], axis=1)\n",
    "        out.to_csv(outname)\n",
    "        print(\"r2 LOO\")\n",
    "        r2(xpred, ypred)\n",
    "        print(\"R2 4 fold\")\n",
    "        linm = linear_model.LinearRegression()\n",
    "        kFold = KFold(n_splits=4)\n",
    "        score = cross_val_score(linm, xpred, ypred, scoring=\"r2\", cv = kFold)\n",
    "        print(score)\n",
    "        print(np.mean(score))\n",
    "\n",
    "\n",
    "def write_dataframe_to_csv(stringA, stringB):\n",
    "    # Create an empty dataframe with two columns\n",
    "    df = pd.DataFrame(columns=[\"word\", \"number\"])\n",
    "\n",
    "    # Split the input string into lines\n",
    "    lines = stringA.split(\"\\n\")\n",
    "\n",
    "    # Loop over the lines and split each line into a word and a number\n",
    "    for line in lines:\n",
    "        if len(line) > 0:\n",
    "            # Split the line into three parts: the word, the space-separated middle part, and the number\n",
    "            parts = line.split()\n",
    "            word = \" \".join(parts[:-1])\n",
    "            number = float(parts[-1])\n",
    "            df = df.append({\"word\": word, \"number\": number}, ignore_index=True)\n",
    "\n",
    "    # Write the dataframe to a CSV file\n",
    "    df.to_csv(stringB, index=False)\n"
   ],
   "metadata": {
    "collapsed": false,
    "pycharm": {
     "name": "#%%\n"
    }
   }
  },
  {
   "cell_type": "code",
   "execution_count": 5,
   "outputs": [
    {
     "name": "stderr",
     "output_type": "stream",
     "text": [
      "/tmp/ipykernel_207499/37672093.py:6: FutureWarning: The frame.append method is deprecated and will be removed from pandas in a future version. Use pandas.concat instead.\n",
      "  combinedDF = redDF.append(whiteDF, ignore_index=True)\n"
     ]
    }
   ],
   "source": [
    "redDF = pd.read_csv('winequality-red.csv', sep=\";\")\n",
    "whiteDF = pd.read_csv('winequality-white.csv', sep=\";\")\n",
    "redDF['wine_color'] = 'red'\n",
    "whiteDF['wine_color'] = 'white'\n",
    "\n",
    "combinedDF = redDF.append(whiteDF, ignore_index=True)"
   ],
   "metadata": {
    "collapsed": false,
    "pycharm": {
     "name": "#%%\n"
    }
   }
  },
  {
   "cell_type": "code",
   "execution_count": 8,
   "outputs": [
    {
     "data": {
      "text/plain": "      fixed acidity  volatile acidity  citric acid  residual sugar  chlorides  \\\n0               7.4              0.70         0.00             1.9      0.076   \n1               7.8              0.88         0.00             2.6      0.098   \n2               7.8              0.76         0.04             2.3      0.092   \n3              11.2              0.28         0.56             1.9      0.075   \n4               7.4              0.70         0.00             1.9      0.076   \n...             ...               ...          ...             ...        ...   \n4995            7.4              0.29         0.28            10.2      0.032   \n4996            6.3              0.19         0.29             5.5      0.042   \n4997            6.1              0.33         0.32             7.8      0.052   \n4998            5.6              0.32         0.33             7.4      0.037   \n4999            7.7              0.46         0.18             3.3      0.054   \n\n      free sulfur dioxide  total sulfur dioxide  density    pH  sulphates  \\\n0                    11.0                  34.0  0.99780  3.51       0.56   \n1                    25.0                  67.0  0.99680  3.20       0.68   \n2                    15.0                  54.0  0.99700  3.26       0.65   \n3                    17.0                  60.0  0.99800  3.16       0.58   \n4                    11.0                  34.0  0.99780  3.51       0.56   \n...                   ...                   ...      ...   ...        ...   \n4995                 43.0                 138.0  0.99510  3.10       0.47   \n4996                 44.0                 189.0  0.99304  3.19       0.47   \n4997                 52.0                 183.0  0.99657  3.39       0.65   \n4998                 25.0                  95.0  0.99268  3.25       0.49   \n4999                 18.0                 143.0  0.99392  3.12       0.51   \n\n      alcohol  quality wine_color  \n0         9.4        5        red  \n1         9.8        5        red  \n2         9.8        5        red  \n3         9.8        6        red  \n4         9.4        5        red  \n...       ...      ...        ...  \n4995     10.6        6      white  \n4996     10.3        6      white  \n4997      9.5        5      white  \n4998     11.1        6      white  \n4999     10.8        6      white  \n\n[5000 rows x 13 columns]",
      "text/html": "<div>\n<style scoped>\n    .dataframe tbody tr th:only-of-type {\n        vertical-align: middle;\n    }\n\n    .dataframe tbody tr th {\n        vertical-align: top;\n    }\n\n    .dataframe thead th {\n        text-align: right;\n    }\n</style>\n<table border=\"1\" class=\"dataframe\">\n  <thead>\n    <tr style=\"text-align: right;\">\n      <th></th>\n      <th>fixed acidity</th>\n      <th>volatile acidity</th>\n      <th>citric acid</th>\n      <th>residual sugar</th>\n      <th>chlorides</th>\n      <th>free sulfur dioxide</th>\n      <th>total sulfur dioxide</th>\n      <th>density</th>\n      <th>pH</th>\n      <th>sulphates</th>\n      <th>alcohol</th>\n      <th>quality</th>\n      <th>wine_color</th>\n    </tr>\n  </thead>\n  <tbody>\n    <tr>\n      <th>0</th>\n      <td>7.4</td>\n      <td>0.70</td>\n      <td>0.00</td>\n      <td>1.9</td>\n      <td>0.076</td>\n      <td>11.0</td>\n      <td>34.0</td>\n      <td>0.99780</td>\n      <td>3.51</td>\n      <td>0.56</td>\n      <td>9.4</td>\n      <td>5</td>\n      <td>red</td>\n    </tr>\n    <tr>\n      <th>1</th>\n      <td>7.8</td>\n      <td>0.88</td>\n      <td>0.00</td>\n      <td>2.6</td>\n      <td>0.098</td>\n      <td>25.0</td>\n      <td>67.0</td>\n      <td>0.99680</td>\n      <td>3.20</td>\n      <td>0.68</td>\n      <td>9.8</td>\n      <td>5</td>\n      <td>red</td>\n    </tr>\n    <tr>\n      <th>2</th>\n      <td>7.8</td>\n      <td>0.76</td>\n      <td>0.04</td>\n      <td>2.3</td>\n      <td>0.092</td>\n      <td>15.0</td>\n      <td>54.0</td>\n      <td>0.99700</td>\n      <td>3.26</td>\n      <td>0.65</td>\n      <td>9.8</td>\n      <td>5</td>\n      <td>red</td>\n    </tr>\n    <tr>\n      <th>3</th>\n      <td>11.2</td>\n      <td>0.28</td>\n      <td>0.56</td>\n      <td>1.9</td>\n      <td>0.075</td>\n      <td>17.0</td>\n      <td>60.0</td>\n      <td>0.99800</td>\n      <td>3.16</td>\n      <td>0.58</td>\n      <td>9.8</td>\n      <td>6</td>\n      <td>red</td>\n    </tr>\n    <tr>\n      <th>4</th>\n      <td>7.4</td>\n      <td>0.70</td>\n      <td>0.00</td>\n      <td>1.9</td>\n      <td>0.076</td>\n      <td>11.0</td>\n      <td>34.0</td>\n      <td>0.99780</td>\n      <td>3.51</td>\n      <td>0.56</td>\n      <td>9.4</td>\n      <td>5</td>\n      <td>red</td>\n    </tr>\n    <tr>\n      <th>...</th>\n      <td>...</td>\n      <td>...</td>\n      <td>...</td>\n      <td>...</td>\n      <td>...</td>\n      <td>...</td>\n      <td>...</td>\n      <td>...</td>\n      <td>...</td>\n      <td>...</td>\n      <td>...</td>\n      <td>...</td>\n      <td>...</td>\n    </tr>\n    <tr>\n      <th>4995</th>\n      <td>7.4</td>\n      <td>0.29</td>\n      <td>0.28</td>\n      <td>10.2</td>\n      <td>0.032</td>\n      <td>43.0</td>\n      <td>138.0</td>\n      <td>0.99510</td>\n      <td>3.10</td>\n      <td>0.47</td>\n      <td>10.6</td>\n      <td>6</td>\n      <td>white</td>\n    </tr>\n    <tr>\n      <th>4996</th>\n      <td>6.3</td>\n      <td>0.19</td>\n      <td>0.29</td>\n      <td>5.5</td>\n      <td>0.042</td>\n      <td>44.0</td>\n      <td>189.0</td>\n      <td>0.99304</td>\n      <td>3.19</td>\n      <td>0.47</td>\n      <td>10.3</td>\n      <td>6</td>\n      <td>white</td>\n    </tr>\n    <tr>\n      <th>4997</th>\n      <td>6.1</td>\n      <td>0.33</td>\n      <td>0.32</td>\n      <td>7.8</td>\n      <td>0.052</td>\n      <td>52.0</td>\n      <td>183.0</td>\n      <td>0.99657</td>\n      <td>3.39</td>\n      <td>0.65</td>\n      <td>9.5</td>\n      <td>5</td>\n      <td>white</td>\n    </tr>\n    <tr>\n      <th>4998</th>\n      <td>5.6</td>\n      <td>0.32</td>\n      <td>0.33</td>\n      <td>7.4</td>\n      <td>0.037</td>\n      <td>25.0</td>\n      <td>95.0</td>\n      <td>0.99268</td>\n      <td>3.25</td>\n      <td>0.49</td>\n      <td>11.1</td>\n      <td>6</td>\n      <td>white</td>\n    </tr>\n    <tr>\n      <th>4999</th>\n      <td>7.7</td>\n      <td>0.46</td>\n      <td>0.18</td>\n      <td>3.3</td>\n      <td>0.054</td>\n      <td>18.0</td>\n      <td>143.0</td>\n      <td>0.99392</td>\n      <td>3.12</td>\n      <td>0.51</td>\n      <td>10.8</td>\n      <td>6</td>\n      <td>white</td>\n    </tr>\n  </tbody>\n</table>\n<p>5000 rows × 13 columns</p>\n</div>"
     },
     "execution_count": 8,
     "metadata": {},
     "output_type": "execute_result"
    }
   ],
   "source": [],
   "metadata": {
    "collapsed": false,
    "pycharm": {
     "name": "#%%\n"
    }
   }
  }
 ],
 "metadata": {
  "kernelspec": {
   "display_name": "Python 3",
   "language": "python",
   "name": "python3"
  },
  "language_info": {
   "codemirror_mode": {
    "name": "ipython",
    "version": 2
   },
   "file_extension": ".py",
   "mimetype": "text/x-python",
   "name": "python",
   "nbconvert_exporter": "python",
   "pygments_lexer": "ipython2",
   "version": "2.7.6"
  }
 },
 "nbformat": 4,
 "nbformat_minor": 0
}